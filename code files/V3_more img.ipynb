{
 "cells": [
  {
   "cell_type": "code",
   "execution_count": 24,
   "id": "6d078094-4a4e-42cf-a15b-fb9fb5f90c3b",
   "metadata": {
    "executionInfo": {
     "elapsed": 262,
     "status": "ok",
     "timestamp": 1731413409931,
     "user": {
      "displayName": "aryan khunt",
      "userId": "17430087298672499094"
     },
     "user_tz": 480
    },
    "id": "6d078094-4a4e-42cf-a15b-fb9fb5f90c3b"
   },
   "outputs": [],
   "source": [
    "import tensorflow as tf\n",
    "from tensorflow.keras.preprocessing.image import ImageDataGenerator\n",
    "from tensorflow.keras.applications import EfficientNetB0\n",
    "from tensorflow.keras.layers import Dense, Dropout, GlobalAveragePooling2D\n",
    "from tensorflow.keras.models import Sequential\n",
    "from tensorflow.keras.optimizers import Adam\n",
    "from tensorflow.keras.callbacks import EarlyStopping, ReduceLROnPlateau\n",
    "import matplotlib.pyplot as plt\n",
    "import os"
   ]
  },
  {
   "cell_type": "code",
   "execution_count": 8,
   "id": "UXKgXcD7Rl4r",
   "metadata": {
    "colab": {
     "base_uri": "https://localhost:8080/"
    },
    "executionInfo": {
     "elapsed": 962,
     "status": "ok",
     "timestamp": 1731413410890,
     "user": {
      "displayName": "aryan khunt",
      "userId": "17430087298672499094"
     },
     "user_tz": 480
    },
    "id": "UXKgXcD7Rl4r",
    "outputId": "49e0b888-1f04-428a-8b1f-eec176831daf"
   },
   "outputs": [
    {
     "name": "stdout",
     "output_type": "stream",
     "text": [
      "Drive already mounted at /content/drive; to attempt to forcibly remount, call drive.mount(\"/content/drive\", force_remount=True).\n"
     ]
    }
   ],
   "source": [
    "from google.colab import drive\n",
    "drive.mount('/content/drive')"
   ]
  },
  {
   "cell_type": "code",
   "execution_count": 4,
   "id": "5d3188dd-22c2-4fb8-95aa-8edcafb6ba7e",
   "metadata": {
    "colab": {
     "base_uri": "https://localhost:8080/"
    },
    "executionInfo": {
     "elapsed": 151,
     "status": "ok",
     "timestamp": 1731413411030,
     "user": {
      "displayName": "aryan khunt",
      "userId": "17430087298672499094"
     },
     "user_tz": 480
    },
    "id": "5d3188dd-22c2-4fb8-95aa-8edcafb6ba7e",
    "outputId": "461987ce-311e-4dd6-df6f-8961ff641bea"
   },
   "outputs": [
    {
     "name": "stdout",
     "output_type": "stream",
     "text": [
      "Found 18172 images belonging to 2 classes.\n",
      "Found 10262 images belonging to 2 classes.\n",
      "Found 19281 images belonging to 2 classes.\n"
     ]
    }
   ],
   "source": [
    "base_dir = 'DATaSET_NEW copy/'  # Adjust this path\n",
    "\n",
    "# Define paths to the training, validation, and test directories\n",
    "train_dir = os.path.join(base_dir, 'train')\n",
    "validation_dir = os.path.join(base_dir, 'validation')\n",
    "test_dir = os.path.join(base_dir, 'test')\n",
    "\n",
    "# Define image size and batch size\n",
    "img_height, img_width = 256, 256  # Adjust based on your images\n",
    "batch_size = 32\n",
    "\n",
    "# Create training data generator with aggressive data augmentation\n",
    "train_datagen = ImageDataGenerator(\n",
    "    rescale=1./255,\n",
    "    horizontal_flip=True,\n",
    "    rotation_range=40,\n",
    "    zoom_range=0.3,\n",
    "    shear_range=0.3,\n",
    "    fill_mode='nearest',\n",
    "    brightness_range=[0.8, 1.2]\n",
    ")\n",
    "\n",
    "# Validation and test data generators (only rescaling)\n",
    "validation_datagen = ImageDataGenerator(rescale=1./255)\n",
    "test_datagen = ImageDataGenerator(rescale=1./255)\n",
    "\n",
    "# Create generators\n",
    "train_generator = train_datagen.flow_from_directory(\n",
    "    train_dir,\n",
    "    target_size=(img_height, img_width),\n",
    "    batch_size=batch_size,\n",
    "    class_mode='binary'\n",
    ")\n",
    "\n",
    "validation_generator = validation_datagen.flow_from_directory(\n",
    "    validation_dir,\n",
    "    target_size=(img_height, img_width),\n",
    "    batch_size=batch_size,\n",
    "    class_mode='binary'\n",
    ")\n",
    "\n",
    "test_generator = test_datagen.flow_from_directory(\n",
    "    test_dir,\n",
    "    target_size=(img_height, img_width),\n",
    "    batch_size=batch_size,\n",
    "    class_mode='binary',\n",
    "    shuffle=False\n",
    ")\n"
   ]
  },
  {
   "cell_type": "code",
   "execution_count": 12,
   "id": "50ad3c76-75d8-4dee-af06-789d01ab970d",
   "metadata": {},
   "outputs": [
    {
     "name": "stdout",
     "output_type": "stream",
     "text": [
      "Available GPUs: [PhysicalDevice(name='/physical_device:GPU:0', device_type='GPU')]\n"
     ]
    }
   ],
   "source": [
    "print(\"Available GPUs:\", tf.config.list_physical_devices('GPU'))"
   ]
  },
  {
   "cell_type": "code",
   "execution_count": 14,
   "id": "ee9b3aa5-0255-44e5-a824-7cafa5ea1f7c",
   "metadata": {
    "executionInfo": {
     "elapsed": 2020,
     "status": "ok",
     "timestamp": 1731413413048,
     "user": {
      "displayName": "aryan khunt",
      "userId": "17430087298672499094"
     },
     "user_tz": 480
    },
    "id": "ee9b3aa5-0255-44e5-a824-7cafa5ea1f7c"
   },
   "outputs": [],
   "source": [
    "with tf.device('/GPU:0'):\n",
    "    base_model = EfficientNetB0(input_shape=(img_height, img_width, 3), include_top=False, weights='imagenet')\n",
    "    \n",
    "    # Unfreeze some of the last layers for fine-tuning\n",
    "    for layer in base_model.layers[-20:]:\n",
    "        layer.trainable = True\n",
    "    \n",
    "    # Build the model\n",
    "    model = Sequential([\n",
    "        base_model,\n",
    "        GlobalAveragePooling2D(),\n",
    "        Dense(256, activation='relu'),\n",
    "        Dropout(0.5),\n",
    "        Dense(128, activation='relu'),\n",
    "        Dropout(0.5),\n",
    "        Dense(1, activation='sigmoid')\n",
    "    ])\n",
    "    \n",
    "    # Compile the model\n",
    "    model.compile(optimizer=Adam(learning_rate=0.0001),  # Lower learning rate for fine-tuning\n",
    "                  loss='binary_crossentropy',\n",
    "                  metrics=['accuracy'])\n",
    "    \n",
    "    # Set callbacks for early stopping and learning rate reduction\n",
    "    early_stopping = EarlyStopping(monitor='val_loss', patience=5, restore_best_weights=True)\n",
    "    reduce_lr = ReduceLROnPlateau(monitor='val_loss', factor=0.5, patience=3, min_lr=1e-6)"
   ]
  },
  {
   "cell_type": "code",
   "execution_count": 16,
   "id": "cf0a3fef-33e8-452e-be6a-d6db34c984c8",
   "metadata": {
    "colab": {
     "base_uri": "https://localhost:8080/"
    },
    "executionInfo": {
     "elapsed": 6331717,
     "status": "ok",
     "timestamp": 1731419744762,
     "user": {
      "displayName": "aryan khunt",
      "userId": "17430087298672499094"
     },
     "user_tz": 480
    },
    "id": "cf0a3fef-33e8-452e-be6a-d6db34c984c8",
    "outputId": "3fe741a6-f8f9-47d5-9222-cc429c29feba"
   },
   "outputs": [
    {
     "name": "stdout",
     "output_type": "stream",
     "text": [
      "Epoch 1/15\n",
      "\u001b[1m568/568\u001b[0m \u001b[32m━━━━━━━━━━━━━━━━━━━━\u001b[0m\u001b[37m\u001b[0m \u001b[1m482s\u001b[0m 810ms/step - accuracy: 0.6657 - loss: 0.5854 - val_accuracy: 0.4594 - val_loss: 1.0097 - learning_rate: 1.0000e-04\n",
      "Epoch 2/15\n",
      "\u001b[1m568/568\u001b[0m \u001b[32m━━━━━━━━━━━━━━━━━━━━\u001b[0m\u001b[37m\u001b[0m \u001b[1m451s\u001b[0m 790ms/step - accuracy: 0.8888 - loss: 0.2680 - val_accuracy: 0.9523 - val_loss: 0.1248 - learning_rate: 1.0000e-04\n",
      "Epoch 3/15\n",
      "\u001b[1m568/568\u001b[0m \u001b[32m━━━━━━━━━━━━━━━━━━━━\u001b[0m\u001b[37m\u001b[0m \u001b[1m433s\u001b[0m 759ms/step - accuracy: 0.9220 - loss: 0.2004 - val_accuracy: 0.9538 - val_loss: 0.1163 - learning_rate: 1.0000e-04\n",
      "Epoch 4/15\n",
      "\u001b[1m568/568\u001b[0m \u001b[32m━━━━━━━━━━━━━━━━━━━━\u001b[0m\u001b[37m\u001b[0m \u001b[1m436s\u001b[0m 763ms/step - accuracy: 0.9394 - loss: 0.1549 - val_accuracy: 0.9599 - val_loss: 0.1000 - learning_rate: 1.0000e-04\n",
      "Epoch 5/15\n",
      "\u001b[1m568/568\u001b[0m \u001b[32m━━━━━━━━━━━━━━━━━━━━\u001b[0m\u001b[37m\u001b[0m \u001b[1m435s\u001b[0m 763ms/step - accuracy: 0.9505 - loss: 0.1291 - val_accuracy: 0.9622 - val_loss: 0.1024 - learning_rate: 1.0000e-04\n",
      "Epoch 6/15\n",
      "\u001b[1m568/568\u001b[0m \u001b[32m━━━━━━━━━━━━━━━━━━━━\u001b[0m\u001b[37m\u001b[0m \u001b[1m433s\u001b[0m 759ms/step - accuracy: 0.9570 - loss: 0.1153 - val_accuracy: 0.9787 - val_loss: 0.0593 - learning_rate: 1.0000e-04\n",
      "Epoch 7/15\n",
      "\u001b[1m568/568\u001b[0m \u001b[32m━━━━━━━━━━━━━━━━━━━━\u001b[0m\u001b[37m\u001b[0m \u001b[1m433s\u001b[0m 758ms/step - accuracy: 0.9612 - loss: 0.1012 - val_accuracy: 0.9729 - val_loss: 0.0750 - learning_rate: 1.0000e-04\n",
      "Epoch 8/15\n",
      "\u001b[1m568/568\u001b[0m \u001b[32m━━━━━━━━━━━━━━━━━━━━\u001b[0m\u001b[37m\u001b[0m \u001b[1m440s\u001b[0m 771ms/step - accuracy: 0.9634 - loss: 0.0962 - val_accuracy: 0.9763 - val_loss: 0.0629 - learning_rate: 1.0000e-04\n",
      "Epoch 9/15\n",
      "\u001b[1m568/568\u001b[0m \u001b[32m━━━━━━━━━━━━━━━━━━━━\u001b[0m\u001b[37m\u001b[0m \u001b[1m451s\u001b[0m 789ms/step - accuracy: 0.9658 - loss: 0.0917 - val_accuracy: 0.9803 - val_loss: 0.0555 - learning_rate: 1.0000e-04\n",
      "Epoch 10/15\n",
      "\u001b[1m568/568\u001b[0m \u001b[32m━━━━━━━━━━━━━━━━━━━━\u001b[0m\u001b[37m\u001b[0m \u001b[1m474s\u001b[0m 829ms/step - accuracy: 0.9683 - loss: 0.0840 - val_accuracy: 0.9827 - val_loss: 0.0507 - learning_rate: 1.0000e-04\n",
      "Epoch 11/15\n",
      "\u001b[1m568/568\u001b[0m \u001b[32m━━━━━━━━━━━━━━━━━━━━\u001b[0m\u001b[37m\u001b[0m \u001b[1m469s\u001b[0m 819ms/step - accuracy: 0.9732 - loss: 0.0722 - val_accuracy: 0.9665 - val_loss: 0.0940 - learning_rate: 1.0000e-04\n",
      "Epoch 12/15\n",
      "\u001b[1m568/568\u001b[0m \u001b[32m━━━━━━━━━━━━━━━━━━━━\u001b[0m\u001b[37m\u001b[0m \u001b[1m456s\u001b[0m 798ms/step - accuracy: 0.9729 - loss: 0.0709 - val_accuracy: 0.9801 - val_loss: 0.0573 - learning_rate: 1.0000e-04\n",
      "Epoch 13/15\n",
      "\u001b[1m568/568\u001b[0m \u001b[32m━━━━━━━━━━━━━━━━━━━━\u001b[0m\u001b[37m\u001b[0m \u001b[1m449s\u001b[0m 784ms/step - accuracy: 0.9711 - loss: 0.0786 - val_accuracy: 0.9841 - val_loss: 0.0445 - learning_rate: 1.0000e-04\n",
      "Epoch 14/15\n",
      "\u001b[1m568/568\u001b[0m \u001b[32m━━━━━━━━━━━━━━━━━━━━\u001b[0m\u001b[37m\u001b[0m \u001b[1m454s\u001b[0m 795ms/step - accuracy: 0.9806 - loss: 0.0551 - val_accuracy: 0.9814 - val_loss: 0.0553 - learning_rate: 1.0000e-04\n",
      "Epoch 15/15\n",
      "\u001b[1m568/568\u001b[0m \u001b[32m━━━━━━━━━━━━━━━━━━━━\u001b[0m\u001b[37m\u001b[0m \u001b[1m446s\u001b[0m 781ms/step - accuracy: 0.9816 - loss: 0.0532 - val_accuracy: 0.9796 - val_loss: 0.0552 - learning_rate: 1.0000e-04\n",
      "\u001b[1m603/603\u001b[0m \u001b[32m━━━━━━━━━━━━━━━━━━━━\u001b[0m\u001b[37m\u001b[0m \u001b[1m81s\u001b[0m 135ms/step - accuracy: 0.7966 - loss: 1.8168\n",
      "Test Loss: 2.1291\n",
      "Test Accuracy: 0.7624\n"
     ]
    }
   ],
   "source": [
    "with tf.device('/GPU:0'):\n",
    "    epochs = 15\n",
    "    \n",
    "    history = model.fit(\n",
    "        train_generator,\n",
    "        epochs=epochs,\n",
    "        validation_data=validation_generator,\n",
    "        callbacks=[early_stopping, reduce_lr]\n",
    "    )\n",
    "    \n",
    "    # Evaluate the model on the test data\n",
    "    test_loss, test_accuracy = model.evaluate(test_generator)\n",
    "    print(f'Test Loss: {test_loss:.4f}')\n",
    "    print(f'Test Accuracy: {test_accuracy:.4f}')"
   ]
  },
  {
   "cell_type": "code",
   "execution_count": 17,
   "id": "7adb75c0-b6b9-440b-bb72-4ffafa754720",
   "metadata": {
    "colab": {
     "base_uri": "https://localhost:8080/",
     "height": 507
    },
    "executionInfo": {
     "elapsed": 1207,
     "status": "ok",
     "timestamp": 1731422125507,
     "user": {
      "displayName": "aryan khunt",
      "userId": "17430087298672499094"
     },
     "user_tz": 480
    },
    "id": "7adb75c0-b6b9-440b-bb72-4ffafa754720",
    "outputId": "b11e1543-5298-4200-da84-118cf8fb2d68"
   },
   "outputs": [
    {
     "data": {
      "image/png": "[encoded data removed]",
      "text/plain": [
       "<Figure size 1400x500 with 2 Axes>"
      ]
     },
     "metadata": {},
     "output_type": "display_data"
    }
   ],
   "source": [
    "plt.figure(figsize=(14, 5))\n",
    "\n",
    "plt.subplot(1, 2, 1)\n",
    "plt.plot(history.history['accuracy'], label='Train Accuracy')\n",
    "plt.plot(history.history['val_accuracy'], label='Validation Accuracy')\n",
    "plt.title('Model Accuracy')\n",
    "plt.xlabel('Epoch')\n",
    "plt.ylabel('Accuracy')\n",
    "plt.legend(loc='lower right')\n",
    "\n",
    "# Plot training & validation loss values\n",
    "plt.subplot(1, 2, 2)\n",
    "plt.plot(history.history['loss'], label='Train Loss')\n",
    "plt.plot(history.history['val_loss'], label='Validation Loss')\n",
    "plt.title('Model Loss')\n",
    "plt.xlabel('Epoch')\n",
    "plt.ylabel('Loss')\n",
    "plt.legend(loc='upper right')\n",
    "\n",
    "plt.tight_layout()\n",
    "plt.show()"
   ]
  },
  {
   "cell_type": "code",
   "execution_count": 18,
   "id": "8ac02a31-2339-47eb-98a0-899376f1a9ff",
   "metadata": {
    "executionInfo": {
     "elapsed": 3,
     "status": "ok",
     "timestamp": 1731419745703,
     "user": {
      "displayName": "aryan khunt",
      "userId": "17430087298672499094"
     },
     "user_tz": 480
    },
    "id": "8ac02a31-2339-47eb-98a0-899376f1a9ff"
   },
   "outputs": [
    {
     "name": "stderr",
     "output_type": "stream",
     "text": [
      "WARNING:absl:You are saving your model as an HDF5 file via `model.save()` or `keras.saving.save_model(model)`. This file format is considered legacy. We recommend using instead the native Keras format, e.g. `model.save('my_model.keras')` or `keras.saving.save_model(model, 'my_model.keras')`. \n"
     ]
    },
    {
     "name": "stdout",
     "output_type": "stream",
     "text": [
      "Model saved as V3_103.h5\n"
     ]
    }
   ],
   "source": [
    "# Save the trained model in .h5 format\n",
    "model.save(\"V3_103.h5\")\n",
    "print(\"Model saved as V3_103.h5\")"
   ]
  },
  {
   "cell_type": "code",
   "execution_count": 28,
   "id": "efcc4627-3f83-4f96-b839-12c9001056a1",
   "metadata": {},
   "outputs": [
    {
     "name": "stderr",
     "output_type": "stream",
     "text": [
      "WARNING:absl:Compiled the loaded model, but the compiled metrics have yet to be built. `model.compile_metrics` will be empty until you train or evaluate the model.\n"
     ]
    },
    {
     "name": "stdout",
     "output_type": "stream",
     "text": [
      "Model loaded successfully!\n"
     ]
    }
   ],
   "source": [
    "model = tf.keras.models.load_model(\"V3_103.h5\")\n",
    "print(\"Model loaded successfully!\")"
   ]
  },
  {
   "cell_type": "code",
   "execution_count": 30,
   "id": "021d8b97-f1c9-48d3-a8ee-382f177b7c8b",
   "metadata": {},
   "outputs": [],
   "source": [
    "import numpy as np\n",
    "from PIL import Image\n",
    "\n",
    "def predict(image):\n",
    "    # Resize and preprocess the image\n",
    "    img = image.resize((img_width, img_height))  # Match training dimensions\n",
    "    img_array = np.array(img) / 255.0  # Normalize the image\n",
    "    img_array = img_array[np.newaxis, ...]  # Add batch dimension\n",
    "\n",
    "    # Get predictions\n",
    "    prediction = model.predict(img_array)[0][0]  # Assuming binary classification\n",
    "    return {\"Class 0\": 1 - prediction, \"Class 1\": prediction}"
   ]
  },
  {
   "cell_type": "code",
   "execution_count": 2,
   "id": "291b7357-61ea-422f-b5d8-4c71f5f6724a",
   "metadata": {},
   "outputs": [
    {
     "name": "stderr",
     "output_type": "stream",
     "text": [
      "2024-12-04 19:57:16.781935: I metal_plugin/src/device/metal_device.cc:1154] Metal device set to: Apple M3 Pro\n",
      "2024-12-04 19:57:16.781963: I metal_plugin/src/device/metal_device.cc:296] systemMemory: 18.00 GB\n",
      "2024-12-04 19:57:16.781968: I metal_plugin/src/device/metal_device.cc:313] maxCacheSize: 6.00 GB\n",
      "2024-12-04 19:57:16.782232: I tensorflow/core/common_runtime/pluggable_device/pluggable_device_factory.cc:305] Could not identify NUMA node of platform GPU ID 0, defaulting to 0. Your kernel may not have been built with NUMA support.\n",
      "2024-12-04 19:57:16.782243: I tensorflow/core/common_runtime/pluggable_device/pluggable_device_factory.cc:271] Created TensorFlow device (/job:localhost/replica:0/task:0/device:GPU:0 with 0 MB memory) -> physical PluggableDevice (device: 0, name: METAL, pci bus id: <undefined>)\n",
      "WARNING:absl:Compiled the loaded model, but the compiled metrics have yet to be built. `model.compile_metrics` will be empty until you train or evaluate the model.\n"
     ]
    },
    {
     "name": "stdout",
     "output_type": "stream",
     "text": [
      "* Running on local URL:  http://127.0.0.1:7863\n",
      "* Running on public URL: https://0d75c89cec5249842d.gradio.live\n",
      "\n",
      "This share link expires in 72 hours. For free permanent hosting and GPU upgrades, run `gradio deploy` from the terminal in the working directory to deploy to Hugging Face Spaces (https://huggingface.co/spaces)\n"
     ]
    },
    {
     "data": {
      "text/html": [
       "<div><iframe src=\"https://0d75c89cec5249842d.gradio.live\" width=\"100%\" height=\"500\" allow=\"autoplay; camera; microphone; clipboard-read; clipboard-write;\" frameborder=\"0\" allowfullscreen></iframe></div>"
      ],
      "text/plain": [
       "<IPython.core.display.HTML object>"
      ]
     },
     "metadata": {},
     "output_type": "display_data"
    },
    {
     "data": {
      "text/plain": []
     },
     "execution_count": 2,
     "metadata": {},
     "output_type": "execute_result"
    }
   ],
   "source": [
    "import gradio as gr\n",
    "import tensorflow as tf\n",
    "import numpy as np\n",
    "from PIL import Image\n",
    "\n",
    "# Load the saved TensorFlow model\n",
    "model = tf.keras.models.load_model(\"V3_103.h5\")\n",
    "\n",
    "# Set the input image dimensions\n",
    "img_width, img_height = 256, 256  # Updated dimensions to match your images\n",
    "\n",
    "# Define the prediction function\n",
    "def predict(image):\n",
    "    # Resize and preprocess the image\n",
    "    img = image.resize((img_width, img_height))\n",
    "    img_array = np.array(img) / 255.0  # Normalize to [0, 1]\n",
    "    img_array = img_array[np.newaxis, ...]  # Add batch dimension\n",
    "    # Predict using the model\n",
    "    prediction = model.predict(img_array)[0][0]  # Binary classification\n",
    "    return {\"Fake\": 1 - prediction, \"Real\": prediction}\n",
    "\n",
    "# Create the Gradio interface\n",
    "interface = gr.Interface(\n",
    "    fn=predict,\n",
    "    inputs=gr.Image(type=\"pil\", label=\"Upload Image\"),  # Input: Image\n",
    "    outputs=gr.Label(num_top_classes=2, label=\"Predictions\"),  # Output: Class probabilities\n",
    "    title=\"Deepfake Detection - Group 14\",\n",
    "    description=\"Upload an image (256x256) to classify it using the V3 model.\"\n",
    ")\n",
    "\n",
    "# Launch the app\n",
    "interface.launch(share=True)"
   ]
  },
  {
   "cell_type": "code",
   "execution_count": null,
   "id": "49d272e9-f7b7-4d7f-ac9e-e8bba9fa9fc3",
   "metadata": {},
   "outputs": [],
   "source": []
  }
 ],
 "metadata": {
  "colab": {
   "provenance": []
  },
  "kernelspec": {
   "display_name": "Python 3 (ipykernel)",
   "language": "python",
   "name": "python3"
  },
  "language_info": {
   "codemirror_mode": {
    "name": "ipython",
    "version": 3
   },
   "file_extension": ".py",
   "mimetype": "text/x-python",
   "name": "python",
   "nbconvert_exporter": "python",
   "pygments_lexer": "ipython3",
   "version": "3.11.7"
  }
 },
 "nbformat": 4,
 "nbformat_minor": 5
}
